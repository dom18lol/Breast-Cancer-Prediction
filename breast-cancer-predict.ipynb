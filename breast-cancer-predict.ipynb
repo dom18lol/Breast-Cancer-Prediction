{
 "cells": [
  {
   "cell_type": "markdown",
   "id": "respiratory-floor",
   "metadata": {
    "_cell_guid": "7dc2f0f0-7f2e-441b-ad5e-dc6c6e7e19b5",
    "_uuid": "944c75ecf0178c6158c015537796631f4be3ba67",
    "papermill": {
     "duration": 0.02425,
     "end_time": "2021-05-06T07:17:40.441001",
     "exception": false,
     "start_time": "2021-05-06T07:17:40.416751",
     "status": "completed"
    },
    "tags": []
   },
   "source": [
    "# Prediction of Breast Cancer"
   ]
  },
  {
   "cell_type": "markdown",
   "id": "tribal-thumbnail",
   "metadata": {
    "_cell_guid": "e06041ba-c4de-404d-b427-67773487cebb",
    "_uuid": "3ffdd62aeaec4f87cefa896ee8f46fba8ac12876",
    "papermill": {
     "duration": 0.02199,
     "end_time": "2021-05-06T07:17:40.485436",
     "exception": false,
     "start_time": "2021-05-06T07:17:40.463446",
     "status": "completed"
    },
    "tags": []
   },
   "source": [
    "Using the Breast Cancer Wisconsin (Diagnostic) Database, we can create a classifier that can help diagnose patients and predict the likelihood of a breast cancer. A few machine learning techniques will be explored."
   ]
  },
  {
   "cell_type": "markdown",
   "id": "secondary-behalf",
   "metadata": {
    "papermill": {
     "duration": 0.021888,
     "end_time": "2021-05-06T07:17:40.529507",
     "exception": false,
     "start_time": "2021-05-06T07:17:40.507619",
     "status": "completed"
    },
    "tags": []
   },
   "source": [
    "## Importing libraries"
   ]
  },
  {
   "cell_type": "code",
   "execution_count": 1,
   "id": "elegant-smile",
   "metadata": {
    "_cell_guid": "5c7e9232-776b-4250-bc66-846d0211a8d6",
    "_execution_state": "idle",
    "_uuid": "44a9940e9fc2880db72ff036201617f1e2dcc2ac",
    "execution": {
     "iopub.execute_input": "2021-05-06T07:17:40.591085Z",
     "iopub.status.busy": "2021-05-06T07:17:40.590162Z",
     "iopub.status.idle": "2021-05-06T07:17:41.984781Z",
     "shell.execute_reply": "2021-05-06T07:17:41.983789Z"
    },
    "papermill": {
     "duration": 1.433192,
     "end_time": "2021-05-06T07:17:41.984967",
     "exception": false,
     "start_time": "2021-05-06T07:17:40.551775",
     "status": "completed"
    },
    "tags": []
   },
   "outputs": [],
   "source": [
    "import numpy as np\n",
    "import pandas as pd\n",
    "import matplotlib.pyplot as plt\n",
    "from sklearn.metrics import classification_report\n",
    "from sklearn.metrics import confusion_matrix\n",
    "from sklearn.metrics import accuracy_score\n",
    "from sklearn.model_selection import train_test_split\n",
    "from sklearn.model_selection import cross_val_score\n",
    "from sklearn.model_selection import KFold\n",
    "from sklearn.tree import DecisionTreeClassifier\n",
    "from sklearn.neighbors import KNeighborsClassifier\n",
    "from sklearn.naive_bayes import GaussianNB\n",
    "from sklearn.pipeline import Pipeline\n",
    "from sklearn.preprocessing import StandardScaler\n",
    "from sklearn.model_selection import GridSearchCV\n",
    "from sklearn.svm import SVC\n",
    "import time\n",
    "from matplotlib import cm as cm\n",
    "import warnings\n",
    "import seaborn as sns\n",
    "%matplotlib inline"
   ]
  },
  {
   "cell_type": "markdown",
   "id": "finnish-florida",
   "metadata": {
    "_cell_guid": "10a5454a-2edb-4b71-95ce-cf3eb42ad08d",
    "_uuid": "9de448d38725cef68acd836b44c1f6cae2a280a4",
    "papermill": {
     "duration": 0.023852,
     "end_time": "2021-05-06T07:17:42.032510",
     "exception": false,
     "start_time": "2021-05-06T07:17:42.008658",
     "status": "completed"
    },
    "tags": []
   },
   "source": [
    "## Exploratory analysis\n",
    "\n",
    "Load the dataset and do some quick exploratory analysis."
   ]
  },
  {
   "cell_type": "code",
   "execution_count": 2,
   "id": "moral-karen",
   "metadata": {
    "_cell_guid": "991fcaa2-e4b6-4d1e-a480-c5335249546a",
    "_execution_state": "idle",
    "_uuid": "7175ebe2ad5a61144de6985dd44398f0c7778a76",
    "execution": {
     "iopub.execute_input": "2021-05-06T07:17:42.084268Z",
     "iopub.status.busy": "2021-05-06T07:17:42.083574Z",
     "iopub.status.idle": "2021-05-06T07:17:42.158464Z",
     "shell.execute_reply": "2021-05-06T07:17:42.159039Z"
    },
    "papermill": {
     "duration": 0.103514,
     "end_time": "2021-05-06T07:17:42.159241",
     "exception": false,
     "start_time": "2021-05-06T07:17:42.055727",
     "status": "completed"
    },
    "tags": []
   },
   "outputs": [
    {
     "data": {
      "text/html": [
       "<div>\n",
       "<style scoped>\n",
       "    .dataframe tbody tr th:only-of-type {\n",
       "        vertical-align: middle;\n",
       "    }\n",
       "\n",
       "    .dataframe tbody tr th {\n",
       "        vertical-align: top;\n",
       "    }\n",
       "\n",
       "    .dataframe thead th {\n",
       "        text-align: right;\n",
       "    }\n",
       "</style>\n",
       "<table border=\"1\" class=\"dataframe\">\n",
       "  <thead>\n",
       "    <tr style=\"text-align: right;\">\n",
       "      <th></th>\n",
       "      <th>id</th>\n",
       "      <th>diagnosis</th>\n",
       "      <th>radius_mean</th>\n",
       "      <th>texture_mean</th>\n",
       "      <th>perimeter_mean</th>\n",
       "      <th>area_mean</th>\n",
       "      <th>smoothness_mean</th>\n",
       "      <th>compactness_mean</th>\n",
       "      <th>concavity_mean</th>\n",
       "      <th>concave points_mean</th>\n",
       "      <th>...</th>\n",
       "      <th>texture_worst</th>\n",
       "      <th>perimeter_worst</th>\n",
       "      <th>area_worst</th>\n",
       "      <th>smoothness_worst</th>\n",
       "      <th>compactness_worst</th>\n",
       "      <th>concavity_worst</th>\n",
       "      <th>concave points_worst</th>\n",
       "      <th>symmetry_worst</th>\n",
       "      <th>fractal_dimension_worst</th>\n",
       "      <th>Unnamed: 32</th>\n",
       "    </tr>\n",
       "  </thead>\n",
       "  <tbody>\n",
       "    <tr>\n",
       "      <th>0</th>\n",
       "      <td>842302</td>\n",
       "      <td>M</td>\n",
       "      <td>17.99</td>\n",
       "      <td>10.38</td>\n",
       "      <td>122.80</td>\n",
       "      <td>1001.0</td>\n",
       "      <td>0.11840</td>\n",
       "      <td>0.27760</td>\n",
       "      <td>0.3001</td>\n",
       "      <td>0.14710</td>\n",
       "      <td>...</td>\n",
       "      <td>17.33</td>\n",
       "      <td>184.60</td>\n",
       "      <td>2019.0</td>\n",
       "      <td>0.1622</td>\n",
       "      <td>0.6656</td>\n",
       "      <td>0.7119</td>\n",
       "      <td>0.2654</td>\n",
       "      <td>0.4601</td>\n",
       "      <td>0.11890</td>\n",
       "      <td>NaN</td>\n",
       "    </tr>\n",
       "    <tr>\n",
       "      <th>1</th>\n",
       "      <td>842517</td>\n",
       "      <td>M</td>\n",
       "      <td>20.57</td>\n",
       "      <td>17.77</td>\n",
       "      <td>132.90</td>\n",
       "      <td>1326.0</td>\n",
       "      <td>0.08474</td>\n",
       "      <td>0.07864</td>\n",
       "      <td>0.0869</td>\n",
       "      <td>0.07017</td>\n",
       "      <td>...</td>\n",
       "      <td>23.41</td>\n",
       "      <td>158.80</td>\n",
       "      <td>1956.0</td>\n",
       "      <td>0.1238</td>\n",
       "      <td>0.1866</td>\n",
       "      <td>0.2416</td>\n",
       "      <td>0.1860</td>\n",
       "      <td>0.2750</td>\n",
       "      <td>0.08902</td>\n",
       "      <td>NaN</td>\n",
       "    </tr>\n",
       "    <tr>\n",
       "      <th>2</th>\n",
       "      <td>84300903</td>\n",
       "      <td>M</td>\n",
       "      <td>19.69</td>\n",
       "      <td>21.25</td>\n",
       "      <td>130.00</td>\n",
       "      <td>1203.0</td>\n",
       "      <td>0.10960</td>\n",
       "      <td>0.15990</td>\n",
       "      <td>0.1974</td>\n",
       "      <td>0.12790</td>\n",
       "      <td>...</td>\n",
       "      <td>25.53</td>\n",
       "      <td>152.50</td>\n",
       "      <td>1709.0</td>\n",
       "      <td>0.1444</td>\n",
       "      <td>0.4245</td>\n",
       "      <td>0.4504</td>\n",
       "      <td>0.2430</td>\n",
       "      <td>0.3613</td>\n",
       "      <td>0.08758</td>\n",
       "      <td>NaN</td>\n",
       "    </tr>\n",
       "    <tr>\n",
       "      <th>3</th>\n",
       "      <td>84348301</td>\n",
       "      <td>M</td>\n",
       "      <td>11.42</td>\n",
       "      <td>20.38</td>\n",
       "      <td>77.58</td>\n",
       "      <td>386.1</td>\n",
       "      <td>0.14250</td>\n",
       "      <td>0.28390</td>\n",
       "      <td>0.2414</td>\n",
       "      <td>0.10520</td>\n",
       "      <td>...</td>\n",
       "      <td>26.50</td>\n",
       "      <td>98.87</td>\n",
       "      <td>567.7</td>\n",
       "      <td>0.2098</td>\n",
       "      <td>0.8663</td>\n",
       "      <td>0.6869</td>\n",
       "      <td>0.2575</td>\n",
       "      <td>0.6638</td>\n",
       "      <td>0.17300</td>\n",
       "      <td>NaN</td>\n",
       "    </tr>\n",
       "    <tr>\n",
       "      <th>4</th>\n",
       "      <td>84358402</td>\n",
       "      <td>M</td>\n",
       "      <td>20.29</td>\n",
       "      <td>14.34</td>\n",
       "      <td>135.10</td>\n",
       "      <td>1297.0</td>\n",
       "      <td>0.10030</td>\n",
       "      <td>0.13280</td>\n",
       "      <td>0.1980</td>\n",
       "      <td>0.10430</td>\n",
       "      <td>...</td>\n",
       "      <td>16.67</td>\n",
       "      <td>152.20</td>\n",
       "      <td>1575.0</td>\n",
       "      <td>0.1374</td>\n",
       "      <td>0.2050</td>\n",
       "      <td>0.4000</td>\n",
       "      <td>0.1625</td>\n",
       "      <td>0.2364</td>\n",
       "      <td>0.07678</td>\n",
       "      <td>NaN</td>\n",
       "    </tr>\n",
       "  </tbody>\n",
       "</table>\n",
       "<p>5 rows × 33 columns</p>\n",
       "</div>"
      ],
      "text/plain": [
       "         id diagnosis  radius_mean  texture_mean  perimeter_mean  area_mean  \\\n",
       "0    842302         M        17.99         10.38          122.80     1001.0   \n",
       "1    842517         M        20.57         17.77          132.90     1326.0   \n",
       "2  84300903         M        19.69         21.25          130.00     1203.0   \n",
       "3  84348301         M        11.42         20.38           77.58      386.1   \n",
       "4  84358402         M        20.29         14.34          135.10     1297.0   \n",
       "\n",
       "   smoothness_mean  compactness_mean  concavity_mean  concave points_mean  \\\n",
       "0          0.11840           0.27760          0.3001              0.14710   \n",
       "1          0.08474           0.07864          0.0869              0.07017   \n",
       "2          0.10960           0.15990          0.1974              0.12790   \n",
       "3          0.14250           0.28390          0.2414              0.10520   \n",
       "4          0.10030           0.13280          0.1980              0.10430   \n",
       "\n",
       "   ...  texture_worst  perimeter_worst  area_worst  smoothness_worst  \\\n",
       "0  ...          17.33           184.60      2019.0            0.1622   \n",
       "1  ...          23.41           158.80      1956.0            0.1238   \n",
       "2  ...          25.53           152.50      1709.0            0.1444   \n",
       "3  ...          26.50            98.87       567.7            0.2098   \n",
       "4  ...          16.67           152.20      1575.0            0.1374   \n",
       "\n",
       "   compactness_worst  concavity_worst  concave points_worst  symmetry_worst  \\\n",
       "0             0.6656           0.7119                0.2654          0.4601   \n",
       "1             0.1866           0.2416                0.1860          0.2750   \n",
       "2             0.4245           0.4504                0.2430          0.3613   \n",
       "3             0.8663           0.6869                0.2575          0.6638   \n",
       "4             0.2050           0.4000                0.1625          0.2364   \n",
       "\n",
       "   fractal_dimension_worst  Unnamed: 32  \n",
       "0                  0.11890          NaN  \n",
       "1                  0.08902          NaN  \n",
       "2                  0.08758          NaN  \n",
       "3                  0.17300          NaN  \n",
       "4                  0.07678          NaN  \n",
       "\n",
       "[5 rows x 33 columns]"
      ]
     },
     "execution_count": 2,
     "metadata": {},
     "output_type": "execute_result"
    }
   ],
   "source": [
    "data = pd.read_csv('../input/breast-cancer-wisconsin-data/data.csv', index_col=False)\n",
    "data.head(5)"
   ]
  },
  {
   "cell_type": "code",
   "execution_count": 3,
   "id": "immune-credits",
   "metadata": {
    "_cell_guid": "0f5a9ef3-2b7e-40f3-94c9-d610c0f88dc5",
    "_uuid": "769147a9ae9ba27e572d07c2e75aa9b13287ee9b",
    "execution": {
     "iopub.execute_input": "2021-05-06T07:17:42.212008Z",
     "iopub.status.busy": "2021-05-06T07:17:42.211258Z",
     "iopub.status.idle": "2021-05-06T07:17:42.217440Z",
     "shell.execute_reply": "2021-05-06T07:17:42.216209Z"
    },
    "papermill": {
     "duration": 0.034343,
     "end_time": "2021-05-06T07:17:42.217752",
     "exception": false,
     "start_time": "2021-05-06T07:17:42.183409",
     "status": "completed"
    },
    "tags": []
   },
   "outputs": [
    {
     "name": "stdout",
     "output_type": "stream",
     "text": [
      "(569, 33)\n"
     ]
    }
   ],
   "source": [
    "print(data.shape)"
   ]
  },
  {
   "cell_type": "code",
   "execution_count": 4,
   "id": "chronic-coast",
   "metadata": {
    "_cell_guid": "dfdb2cf8-9fe1-4efb-a779-9cb062a04c71",
    "_uuid": "54c91f25e50f6b069ed7217c34df68cd52cd5970",
    "execution": {
     "iopub.execute_input": "2021-05-06T07:17:42.276609Z",
     "iopub.status.busy": "2021-05-06T07:17:42.275594Z",
     "iopub.status.idle": "2021-05-06T07:17:42.375047Z",
     "shell.execute_reply": "2021-05-06T07:17:42.374523Z"
    },
    "papermill": {
     "duration": 0.133186,
     "end_time": "2021-05-06T07:17:42.375207",
     "exception": false,
     "start_time": "2021-05-06T07:17:42.242021",
     "status": "completed"
    },
    "tags": []
   },
   "outputs": [
    {
     "data": {
      "text/html": [
       "<div>\n",
       "<style scoped>\n",
       "    .dataframe tbody tr th:only-of-type {\n",
       "        vertical-align: middle;\n",
       "    }\n",
       "\n",
       "    .dataframe tbody tr th {\n",
       "        vertical-align: top;\n",
       "    }\n",
       "\n",
       "    .dataframe thead th {\n",
       "        text-align: right;\n",
       "    }\n",
       "</style>\n",
       "<table border=\"1\" class=\"dataframe\">\n",
       "  <thead>\n",
       "    <tr style=\"text-align: right;\">\n",
       "      <th></th>\n",
       "      <th>id</th>\n",
       "      <th>radius_mean</th>\n",
       "      <th>texture_mean</th>\n",
       "      <th>perimeter_mean</th>\n",
       "      <th>area_mean</th>\n",
       "      <th>smoothness_mean</th>\n",
       "      <th>compactness_mean</th>\n",
       "      <th>concavity_mean</th>\n",
       "      <th>concave points_mean</th>\n",
       "      <th>symmetry_mean</th>\n",
       "      <th>...</th>\n",
       "      <th>texture_worst</th>\n",
       "      <th>perimeter_worst</th>\n",
       "      <th>area_worst</th>\n",
       "      <th>smoothness_worst</th>\n",
       "      <th>compactness_worst</th>\n",
       "      <th>concavity_worst</th>\n",
       "      <th>concave points_worst</th>\n",
       "      <th>symmetry_worst</th>\n",
       "      <th>fractal_dimension_worst</th>\n",
       "      <th>Unnamed: 32</th>\n",
       "    </tr>\n",
       "  </thead>\n",
       "  <tbody>\n",
       "    <tr>\n",
       "      <th>count</th>\n",
       "      <td>5.690000e+02</td>\n",
       "      <td>569.000000</td>\n",
       "      <td>569.000000</td>\n",
       "      <td>569.000000</td>\n",
       "      <td>569.000000</td>\n",
       "      <td>569.000000</td>\n",
       "      <td>569.000000</td>\n",
       "      <td>569.000000</td>\n",
       "      <td>569.000000</td>\n",
       "      <td>569.000000</td>\n",
       "      <td>...</td>\n",
       "      <td>569.000000</td>\n",
       "      <td>569.000000</td>\n",
       "      <td>569.000000</td>\n",
       "      <td>569.000000</td>\n",
       "      <td>569.000000</td>\n",
       "      <td>569.000000</td>\n",
       "      <td>569.000000</td>\n",
       "      <td>569.000000</td>\n",
       "      <td>569.000000</td>\n",
       "      <td>0.0</td>\n",
       "    </tr>\n",
       "    <tr>\n",
       "      <th>mean</th>\n",
       "      <td>3.037183e+07</td>\n",
       "      <td>14.127292</td>\n",
       "      <td>19.289649</td>\n",
       "      <td>91.969033</td>\n",
       "      <td>654.889104</td>\n",
       "      <td>0.096360</td>\n",
       "      <td>0.104341</td>\n",
       "      <td>0.088799</td>\n",
       "      <td>0.048919</td>\n",
       "      <td>0.181162</td>\n",
       "      <td>...</td>\n",
       "      <td>25.677223</td>\n",
       "      <td>107.261213</td>\n",
       "      <td>880.583128</td>\n",
       "      <td>0.132369</td>\n",
       "      <td>0.254265</td>\n",
       "      <td>0.272188</td>\n",
       "      <td>0.114606</td>\n",
       "      <td>0.290076</td>\n",
       "      <td>0.083946</td>\n",
       "      <td>NaN</td>\n",
       "    </tr>\n",
       "    <tr>\n",
       "      <th>std</th>\n",
       "      <td>1.250206e+08</td>\n",
       "      <td>3.524049</td>\n",
       "      <td>4.301036</td>\n",
       "      <td>24.298981</td>\n",
       "      <td>351.914129</td>\n",
       "      <td>0.014064</td>\n",
       "      <td>0.052813</td>\n",
       "      <td>0.079720</td>\n",
       "      <td>0.038803</td>\n",
       "      <td>0.027414</td>\n",
       "      <td>...</td>\n",
       "      <td>6.146258</td>\n",
       "      <td>33.602542</td>\n",
       "      <td>569.356993</td>\n",
       "      <td>0.022832</td>\n",
       "      <td>0.157336</td>\n",
       "      <td>0.208624</td>\n",
       "      <td>0.065732</td>\n",
       "      <td>0.061867</td>\n",
       "      <td>0.018061</td>\n",
       "      <td>NaN</td>\n",
       "    </tr>\n",
       "    <tr>\n",
       "      <th>min</th>\n",
       "      <td>8.670000e+03</td>\n",
       "      <td>6.981000</td>\n",
       "      <td>9.710000</td>\n",
       "      <td>43.790000</td>\n",
       "      <td>143.500000</td>\n",
       "      <td>0.052630</td>\n",
       "      <td>0.019380</td>\n",
       "      <td>0.000000</td>\n",
       "      <td>0.000000</td>\n",
       "      <td>0.106000</td>\n",
       "      <td>...</td>\n",
       "      <td>12.020000</td>\n",
       "      <td>50.410000</td>\n",
       "      <td>185.200000</td>\n",
       "      <td>0.071170</td>\n",
       "      <td>0.027290</td>\n",
       "      <td>0.000000</td>\n",
       "      <td>0.000000</td>\n",
       "      <td>0.156500</td>\n",
       "      <td>0.055040</td>\n",
       "      <td>NaN</td>\n",
       "    </tr>\n",
       "    <tr>\n",
       "      <th>25%</th>\n",
       "      <td>8.692180e+05</td>\n",
       "      <td>11.700000</td>\n",
       "      <td>16.170000</td>\n",
       "      <td>75.170000</td>\n",
       "      <td>420.300000</td>\n",
       "      <td>0.086370</td>\n",
       "      <td>0.064920</td>\n",
       "      <td>0.029560</td>\n",
       "      <td>0.020310</td>\n",
       "      <td>0.161900</td>\n",
       "      <td>...</td>\n",
       "      <td>21.080000</td>\n",
       "      <td>84.110000</td>\n",
       "      <td>515.300000</td>\n",
       "      <td>0.116600</td>\n",
       "      <td>0.147200</td>\n",
       "      <td>0.114500</td>\n",
       "      <td>0.064930</td>\n",
       "      <td>0.250400</td>\n",
       "      <td>0.071460</td>\n",
       "      <td>NaN</td>\n",
       "    </tr>\n",
       "    <tr>\n",
       "      <th>50%</th>\n",
       "      <td>9.060240e+05</td>\n",
       "      <td>13.370000</td>\n",
       "      <td>18.840000</td>\n",
       "      <td>86.240000</td>\n",
       "      <td>551.100000</td>\n",
       "      <td>0.095870</td>\n",
       "      <td>0.092630</td>\n",
       "      <td>0.061540</td>\n",
       "      <td>0.033500</td>\n",
       "      <td>0.179200</td>\n",
       "      <td>...</td>\n",
       "      <td>25.410000</td>\n",
       "      <td>97.660000</td>\n",
       "      <td>686.500000</td>\n",
       "      <td>0.131300</td>\n",
       "      <td>0.211900</td>\n",
       "      <td>0.226700</td>\n",
       "      <td>0.099930</td>\n",
       "      <td>0.282200</td>\n",
       "      <td>0.080040</td>\n",
       "      <td>NaN</td>\n",
       "    </tr>\n",
       "    <tr>\n",
       "      <th>75%</th>\n",
       "      <td>8.813129e+06</td>\n",
       "      <td>15.780000</td>\n",
       "      <td>21.800000</td>\n",
       "      <td>104.100000</td>\n",
       "      <td>782.700000</td>\n",
       "      <td>0.105300</td>\n",
       "      <td>0.130400</td>\n",
       "      <td>0.130700</td>\n",
       "      <td>0.074000</td>\n",
       "      <td>0.195700</td>\n",
       "      <td>...</td>\n",
       "      <td>29.720000</td>\n",
       "      <td>125.400000</td>\n",
       "      <td>1084.000000</td>\n",
       "      <td>0.146000</td>\n",
       "      <td>0.339100</td>\n",
       "      <td>0.382900</td>\n",
       "      <td>0.161400</td>\n",
       "      <td>0.317900</td>\n",
       "      <td>0.092080</td>\n",
       "      <td>NaN</td>\n",
       "    </tr>\n",
       "    <tr>\n",
       "      <th>max</th>\n",
       "      <td>9.113205e+08</td>\n",
       "      <td>28.110000</td>\n",
       "      <td>39.280000</td>\n",
       "      <td>188.500000</td>\n",
       "      <td>2501.000000</td>\n",
       "      <td>0.163400</td>\n",
       "      <td>0.345400</td>\n",
       "      <td>0.426800</td>\n",
       "      <td>0.201200</td>\n",
       "      <td>0.304000</td>\n",
       "      <td>...</td>\n",
       "      <td>49.540000</td>\n",
       "      <td>251.200000</td>\n",
       "      <td>4254.000000</td>\n",
       "      <td>0.222600</td>\n",
       "      <td>1.058000</td>\n",
       "      <td>1.252000</td>\n",
       "      <td>0.291000</td>\n",
       "      <td>0.663800</td>\n",
       "      <td>0.207500</td>\n",
       "      <td>NaN</td>\n",
       "    </tr>\n",
       "  </tbody>\n",
       "</table>\n",
       "<p>8 rows × 32 columns</p>\n",
       "</div>"
      ],
      "text/plain": [
       "                 id  radius_mean  texture_mean  perimeter_mean    area_mean  \\\n",
       "count  5.690000e+02   569.000000    569.000000      569.000000   569.000000   \n",
       "mean   3.037183e+07    14.127292     19.289649       91.969033   654.889104   \n",
       "std    1.250206e+08     3.524049      4.301036       24.298981   351.914129   \n",
       "min    8.670000e+03     6.981000      9.710000       43.790000   143.500000   \n",
       "25%    8.692180e+05    11.700000     16.170000       75.170000   420.300000   \n",
       "50%    9.060240e+05    13.370000     18.840000       86.240000   551.100000   \n",
       "75%    8.813129e+06    15.780000     21.800000      104.100000   782.700000   \n",
       "max    9.113205e+08    28.110000     39.280000      188.500000  2501.000000   \n",
       "\n",
       "       smoothness_mean  compactness_mean  concavity_mean  concave points_mean  \\\n",
       "count       569.000000        569.000000      569.000000           569.000000   \n",
       "mean          0.096360          0.104341        0.088799             0.048919   \n",
       "std           0.014064          0.052813        0.079720             0.038803   \n",
       "min           0.052630          0.019380        0.000000             0.000000   \n",
       "25%           0.086370          0.064920        0.029560             0.020310   \n",
       "50%           0.095870          0.092630        0.061540             0.033500   \n",
       "75%           0.105300          0.130400        0.130700             0.074000   \n",
       "max           0.163400          0.345400        0.426800             0.201200   \n",
       "\n",
       "       symmetry_mean  ...  texture_worst  perimeter_worst   area_worst  \\\n",
       "count     569.000000  ...     569.000000       569.000000   569.000000   \n",
       "mean        0.181162  ...      25.677223       107.261213   880.583128   \n",
       "std         0.027414  ...       6.146258        33.602542   569.356993   \n",
       "min         0.106000  ...      12.020000        50.410000   185.200000   \n",
       "25%         0.161900  ...      21.080000        84.110000   515.300000   \n",
       "50%         0.179200  ...      25.410000        97.660000   686.500000   \n",
       "75%         0.195700  ...      29.720000       125.400000  1084.000000   \n",
       "max         0.304000  ...      49.540000       251.200000  4254.000000   \n",
       "\n",
       "       smoothness_worst  compactness_worst  concavity_worst  \\\n",
       "count        569.000000         569.000000       569.000000   \n",
       "mean           0.132369           0.254265         0.272188   \n",
       "std            0.022832           0.157336         0.208624   \n",
       "min            0.071170           0.027290         0.000000   \n",
       "25%            0.116600           0.147200         0.114500   \n",
       "50%            0.131300           0.211900         0.226700   \n",
       "75%            0.146000           0.339100         0.382900   \n",
       "max            0.222600           1.058000         1.252000   \n",
       "\n",
       "       concave points_worst  symmetry_worst  fractal_dimension_worst  \\\n",
       "count            569.000000      569.000000               569.000000   \n",
       "mean               0.114606        0.290076                 0.083946   \n",
       "std                0.065732        0.061867                 0.018061   \n",
       "min                0.000000        0.156500                 0.055040   \n",
       "25%                0.064930        0.250400                 0.071460   \n",
       "50%                0.099930        0.282200                 0.080040   \n",
       "75%                0.161400        0.317900                 0.092080   \n",
       "max                0.291000        0.663800                 0.207500   \n",
       "\n",
       "       Unnamed: 32  \n",
       "count          0.0  \n",
       "mean           NaN  \n",
       "std            NaN  \n",
       "min            NaN  \n",
       "25%            NaN  \n",
       "50%            NaN  \n",
       "75%            NaN  \n",
       "max            NaN  \n",
       "\n",
       "[8 rows x 32 columns]"
      ]
     },
     "execution_count": 4,
     "metadata": {},
     "output_type": "execute_result"
    }
   ],
   "source": [
    "data.describe()"
   ]
  },
  {
   "cell_type": "markdown",
   "id": "marine-bubble",
   "metadata": {
    "_cell_guid": "dd03fdb7-3144-4150-92de-a3f2132f233d",
    "_uuid": "24c05ec20cf1358ff6fda1a37e338f020017caf8",
    "papermill": {
     "duration": 0.024522,
     "end_time": "2021-05-06T07:17:42.424414",
     "exception": false,
     "start_time": "2021-05-06T07:17:42.399892",
     "status": "completed"
    },
    "tags": []
   },
   "source": [
    "## Data visualisation and pre-processing"
   ]
  },
  {
   "cell_type": "code",
   "execution_count": 5,
   "id": "romantic-print",
   "metadata": {
    "_cell_guid": "8ab2f1c6-b174-4a0a-bf9f-7c94326b3e61",
    "_execution_state": "idle",
    "_uuid": "7bea9ce154dbe82c5d29588f2e27f00bfe3fdf1d",
    "execution": {
     "iopub.execute_input": "2021-05-06T07:17:42.480988Z",
     "iopub.status.busy": "2021-05-06T07:17:42.479416Z",
     "iopub.status.idle": "2021-05-06T07:17:42.484662Z",
     "shell.execute_reply": "2021-05-06T07:17:42.485137Z"
    },
    "papermill": {
     "duration": 0.036471,
     "end_time": "2021-05-06T07:17:42.485317",
     "exception": false,
     "start_time": "2021-05-06T07:17:42.448846",
     "status": "completed"
    },
    "tags": []
   },
   "outputs": [],
   "source": [
    "data['diagnosis'] = data['diagnosis'].apply(lambda x: '1' if x == 'M' else '0')\n",
    "data = data.set_index('id')\n",
    "del data['Unnamed: 32']"
   ]
  },
  {
   "cell_type": "code",
   "execution_count": 6,
   "id": "simple-herald",
   "metadata": {
    "_cell_guid": "f5936456-74bf-4c42-824f-1973566313c3",
    "_execution_state": "idle",
    "_uuid": "1ec0c60db5f383231016f03dd8e8ff362b08dbc6",
    "execution": {
     "iopub.execute_input": "2021-05-06T07:17:42.544937Z",
     "iopub.status.busy": "2021-05-06T07:17:42.543893Z",
     "iopub.status.idle": "2021-05-06T07:17:42.548885Z",
     "shell.execute_reply": "2021-05-06T07:17:42.548250Z"
    },
    "papermill": {
     "duration": 0.038704,
     "end_time": "2021-05-06T07:17:42.549033",
     "exception": false,
     "start_time": "2021-05-06T07:17:42.510329",
     "status": "completed"
    },
    "tags": []
   },
   "outputs": [
    {
     "name": "stdout",
     "output_type": "stream",
     "text": [
      "diagnosis\n",
      "0    357\n",
      "1    212\n",
      "dtype: int64\n"
     ]
    }
   ],
   "source": [
    "print(data.groupby('diagnosis').size())"
   ]
  },
  {
   "cell_type": "code",
   "execution_count": 7,
   "id": "revolutionary-harvest",
   "metadata": {
    "_cell_guid": "b5457977-bd86-4a6f-87da-8d1acc361852",
    "_execution_state": "idle",
    "_uuid": "40e65d54d983261df308a4aa138b649e4b86725a",
    "execution": {
     "iopub.execute_input": "2021-05-06T07:17:42.606954Z",
     "iopub.status.busy": "2021-05-06T07:17:42.606249Z",
     "iopub.status.idle": "2021-05-06T07:17:45.761705Z",
     "shell.execute_reply": "2021-05-06T07:17:45.762173Z"
    },
    "papermill": {
     "duration": 3.187261,
     "end_time": "2021-05-06T07:17:45.762357",
     "exception": false,
     "start_time": "2021-05-06T07:17:42.575096",
     "status": "completed"
    },
    "tags": []
   },
   "outputs": [
    {
     "name": "stderr",
     "output_type": "stream",
     "text": [
      "/opt/conda/lib/python3.7/site-packages/pandas/plotting/_matplotlib/tools.py:400: MatplotlibDeprecationWarning: \n",
      "The is_first_col function was deprecated in Matplotlib 3.4 and will be removed two minor releases later. Use ax.get_subplotspec().is_first_col() instead.\n",
      "  if ax.is_first_col():\n",
      "/opt/conda/lib/python3.7/site-packages/pandas/plotting/_matplotlib/tools.py:400: MatplotlibDeprecationWarning: \n",
      "The is_first_col function was deprecated in Matplotlib 3.4 and will be removed two minor releases later. Use ax.get_subplotspec().is_first_col() instead.\n",
      "  if ax.is_first_col():\n"
     ]
    },
    {
     "data": {
      "image/png": "[encoded data removed]",
      "text/plain": [
       "<Figure size 432x288 with 30 Axes>"
      ]
     },
     "metadata": {
      "needs_background": "light"
     },
     "output_type": "display_data"
    },
    {
     "data": {
      "text/plain": [
       "<Figure size 432x288 with 0 Axes>"
      ]
     },
     "metadata": {},
     "output_type": "display_data"
    }
   ],
   "source": [
    "data.plot(kind='density', subplots=True, layout=(5,6), sharex=False, legend=False, fontsize=1)\n",
    "plt.show();\n",
    "plt.savefig('density.png')"
   ]
  },
  {
   "cell_type": "code",
   "execution_count": 8,
   "id": "allied-howard",
   "metadata": {
    "_cell_guid": "7025c069-528a-4f68-902d-6964ccbb2eb5",
    "_execution_state": "idle",
    "_uuid": "30721fd7c6e1b4bc1b4c711db44a094969a92b1e",
    "execution": {
     "iopub.execute_input": "2021-05-06T07:17:45.878101Z",
     "iopub.status.busy": "2021-05-06T07:17:45.849268Z",
     "iopub.status.idle": "2021-05-06T07:17:46.084971Z",
     "shell.execute_reply": "2021-05-06T07:17:46.084340Z"
    },
    "papermill": {
     "duration": 0.294425,
     "end_time": "2021-05-06T07:17:46.085111",
     "exception": false,
     "start_time": "2021-05-06T07:17:45.790686",
     "status": "completed"
    },
    "tags": []
   },
   "outputs": [
    {
     "data": {
      "image/png": "[encoded data removed]",
      "text/plain": [
       "<Figure size 432x288 with 2 Axes>"
      ]
     },
     "metadata": {
      "needs_background": "light"
     },
     "output_type": "display_data"
    },
    {
     "data": {
      "text/plain": [
       "<Figure size 432x288 with 0 Axes>"
      ]
     },
     "metadata": {},
     "output_type": "display_data"
    }
   ],
   "source": [
    "fig = plt.figure()\n",
    "ax1 = fig.add_subplot(111)\n",
    "cmap = cm.get_cmap('jet', 30)\n",
    "cax = ax1.imshow(data.corr(), interpolation=\"none\", cmap=cmap)\n",
    "ax1.grid(True)\n",
    "plt.title('Breast Cancer Attributes Correlation')\n",
    "# Add colorbar, make sure to specify tick locations to match desired ticklabels\n",
    "fig.colorbar(cax, ticks=[0,.5, .75,.8,.85,.90,.95,1])\n",
    "plt.show()\n",
    "plt.savefig('heatmap.png')"
   ]
  },
  {
   "cell_type": "code",
   "execution_count": 9,
   "id": "common-newman",
   "metadata": {
    "_cell_guid": "e5f9262f-40c7-4935-9e72-f9be15e113e1",
    "_uuid": "770c88e9d8f8f5f0744046d593942f6d7efe1ec5",
    "execution": {
     "iopub.execute_input": "2021-05-06T07:17:46.152897Z",
     "iopub.status.busy": "2021-05-06T07:17:46.151886Z",
     "iopub.status.idle": "2021-05-06T07:17:46.156860Z",
     "shell.execute_reply": "2021-05-06T07:17:46.156253Z"
    },
    "papermill": {
     "duration": 0.041745,
     "end_time": "2021-05-06T07:17:46.157008",
     "exception": false,
     "start_time": "2021-05-06T07:17:46.115263",
     "status": "completed"
    },
    "tags": []
   },
   "outputs": [],
   "source": [
    "Y = data['diagnosis'].values\n",
    "X = data.drop('diagnosis', axis=1).values\n",
    "\n",
    "X_train, X_test, Y_train, Y_test = train_test_split (X, Y, test_size = 0.20, random_state=21)"
   ]
  },
  {
   "cell_type": "markdown",
   "id": "thrown-impact",
   "metadata": {
    "_cell_guid": "6eb9751e-a4e4-457e-b0e3-728334b80999",
    "_uuid": "e85ea911c9057cda526ed82e742c1fa3daff5746",
    "papermill": {
     "duration": 0.029436,
     "end_time": "2021-05-06T07:17:46.216417",
     "exception": false,
     "start_time": "2021-05-06T07:17:46.186981",
     "status": "completed"
    },
    "tags": []
   },
   "source": [
    "## Baseline algorithm checking\n",
    "\n",
    "The following non-linear algorithms will be used, namely: **Classification and Regression Trees (CART)**, **Linear Support Vector Machines (SVM)**, **Gaussian Naive Bayes (NB)** and **k-Nearest Neighbors (KNN)**."
   ]
  },
  {
   "cell_type": "code",
   "execution_count": 10,
   "id": "mobile-migration",
   "metadata": {
    "_cell_guid": "9d75c60c-5a84-4cf1-abc4-83ccf1a04ea5",
    "_uuid": "1b6ac44446c91123c1ceb2bd027e60ab5eb35b9c",
    "execution": {
     "iopub.execute_input": "2021-05-06T07:17:46.282071Z",
     "iopub.status.busy": "2021-05-06T07:17:46.281278Z",
     "iopub.status.idle": "2021-05-06T07:17:46.284355Z",
     "shell.execute_reply": "2021-05-06T07:17:46.284838Z"
    },
    "papermill": {
     "duration": 0.038819,
     "end_time": "2021-05-06T07:17:46.285013",
     "exception": false,
     "start_time": "2021-05-06T07:17:46.246194",
     "status": "completed"
    },
    "tags": []
   },
   "outputs": [],
   "source": [
    "models_list = []\n",
    "models_list.append(('CART', DecisionTreeClassifier()))\n",
    "models_list.append(('SVM', SVC())) \n",
    "models_list.append(('NB', GaussianNB()))\n",
    "models_list.append(('KNN', KNeighborsClassifier()))"
   ]
  },
  {
   "cell_type": "code",
   "execution_count": 11,
   "id": "organizational-supervisor",
   "metadata": {
    "_cell_guid": "b3919d00-b7aa-4d62-b438-ee822ed6e50e",
    "_uuid": "971d250d87e73a7f30cc137e4625c30d8c5331c8",
    "execution": {
     "iopub.execute_input": "2021-05-06T07:17:46.356023Z",
     "iopub.status.busy": "2021-05-06T07:17:46.355319Z",
     "iopub.status.idle": "2021-05-06T07:17:46.778302Z",
     "shell.execute_reply": "2021-05-06T07:17:46.779347Z"
    },
    "papermill": {
     "duration": 0.464359,
     "end_time": "2021-05-06T07:17:46.779636",
     "exception": false,
     "start_time": "2021-05-06T07:17:46.315277",
     "status": "completed"
    },
    "tags": []
   },
   "outputs": [
    {
     "name": "stdout",
     "output_type": "stream",
     "text": [
      "CART: 0.931836\n",
      "SVM: 0.916329\n",
      "NB: 0.940531\n",
      "KNN: 0.922947\n"
     ]
    }
   ],
   "source": [
    "num_folds = 10\n",
    "results = []\n",
    "names = []\n",
    "\n",
    "for name, model in models_list:\n",
    "    kfold = KFold(n_splits=num_folds, random_state=123, shuffle=True)\n",
    "    start = time.time()\n",
    "    cv_results = cross_val_score(model, X_train, Y_train, cv=kfold, scoring='accuracy')\n",
    "    end = time.time()\n",
    "    results.append(cv_results)\n",
    "    names.append(name)\n",
    "    print( \"%s: %f\" % (name, cv_results.mean()))"
   ]
  },
  {
   "cell_type": "code",
   "execution_count": 12,
   "id": "underlying-confidence",
   "metadata": {
    "_cell_guid": "04fa9fd2-636c-4f94-94b8-1c9230c85a5a",
    "_uuid": "cc6a875d67a7d600f983e565332843fa98254f9e",
    "execution": {
     "iopub.execute_input": "2021-05-06T07:17:46.914957Z",
     "iopub.status.busy": "2021-05-06T07:17:46.914278Z",
     "iopub.status.idle": "2021-05-06T07:17:47.070510Z",
     "shell.execute_reply": "2021-05-06T07:17:47.071024Z"
    },
    "papermill": {
     "duration": 0.237472,
     "end_time": "2021-05-06T07:17:47.071191",
     "exception": false,
     "start_time": "2021-05-06T07:17:46.833719",
     "status": "completed"
    },
    "tags": []
   },
   "outputs": [
    {
     "data": {
      "image/png": "[encoded data removed]",
      "text/plain": [
       "<Figure size 432x288 with 1 Axes>"
      ]
     },
     "metadata": {
      "needs_background": "light"
     },
     "output_type": "display_data"
    },
    {
     "data": {
      "text/plain": [
       "<Figure size 432x288 with 0 Axes>"
      ]
     },
     "metadata": {},
     "output_type": "display_data"
    }
   ],
   "source": [
    "fig = plt.figure()\n",
    "fig.suptitle('Performance Comparison')\n",
    "ax = fig.add_subplot(111)\n",
    "plt.boxplot(results)\n",
    "ax.set_xticklabels(names)\n",
    "plt.show()\n",
    "plt.savefig('box.png')"
   ]
  },
  {
   "cell_type": "markdown",
   "id": "religious-supplement",
   "metadata": {
    "papermill": {
     "duration": 0.033679,
     "end_time": "2021-05-06T07:17:47.137104",
     "exception": false,
     "start_time": "2021-05-06T07:17:47.103425",
     "status": "completed"
    },
    "tags": []
   },
   "source": [
    "## Standardise Data\n",
    "\n",
    "Compare results before and after standardisation"
   ]
  },
  {
   "cell_type": "code",
   "execution_count": 13,
   "id": "fallen-colombia",
   "metadata": {
    "execution": {
     "iopub.execute_input": "2021-05-06T07:17:47.220669Z",
     "iopub.status.busy": "2021-05-06T07:17:47.219965Z",
     "iopub.status.idle": "2021-05-06T07:17:47.552163Z",
     "shell.execute_reply": "2021-05-06T07:17:47.550818Z"
    },
    "papermill": {
     "duration": 0.378625,
     "end_time": "2021-05-06T07:17:47.552428",
     "exception": false,
     "start_time": "2021-05-06T07:17:47.173803",
     "status": "completed"
    },
    "tags": []
   },
   "outputs": [
    {
     "name": "stdout",
     "output_type": "stream",
     "text": [
      "ScaledCART: 0.925217\n",
      "ScaledSVM: 0.966957\n",
      "ScaledNB: 0.929565\n",
      "ScaledKNN: 0.949469\n"
     ]
    }
   ],
   "source": [
    "pipelines = []\n",
    "\n",
    "pipelines.append(('ScaledCART', Pipeline([('Scaler', StandardScaler()),('CART',\n",
    "                                                                        DecisionTreeClassifier())])))\n",
    "pipelines.append(('ScaledSVM', Pipeline([('Scaler', StandardScaler()),('SVM', SVC( ))])))\n",
    "pipelines.append(('ScaledNB', Pipeline([('Scaler', StandardScaler()),('NB',\n",
    "                                                                      GaussianNB())])))\n",
    "pipelines.append(('ScaledKNN', Pipeline([('Scaler', StandardScaler()),('KNN',\n",
    "                                                                       KNeighborsClassifier())])))\n",
    "results = []\n",
    "names = []\n",
    "with warnings.catch_warnings():\n",
    "    warnings.simplefilter(\"ignore\")\n",
    "    kfold = KFold(n_splits=num_folds, random_state=123, shuffle = True)\n",
    "    for name, model in pipelines:\n",
    "        start = time.time()\n",
    "        cv_results = cross_val_score(model, X_train, Y_train, cv=kfold, scoring='accuracy')\n",
    "        end = time.time()\n",
    "        results.append(cv_results)\n",
    "        names.append(name)\n",
    "        print( \"%s: %f\" % (name, cv_results.mean()))"
   ]
  },
  {
   "cell_type": "code",
   "execution_count": 14,
   "id": "small-updating",
   "metadata": {
    "execution": {
     "iopub.execute_input": "2021-05-06T07:17:47.682929Z",
     "iopub.status.busy": "2021-05-06T07:17:47.679339Z",
     "iopub.status.idle": "2021-05-06T07:17:47.850636Z",
     "shell.execute_reply": "2021-05-06T07:17:47.850047Z"
    },
    "papermill": {
     "duration": 0.239684,
     "end_time": "2021-05-06T07:17:47.850784",
     "exception": false,
     "start_time": "2021-05-06T07:17:47.611100",
     "status": "completed"
    },
    "tags": []
   },
   "outputs": [
    {
     "data": {
      "image/png": "[encoded data removed]",
      "text/plain": [
       "<Figure size 432x288 with 1 Axes>"
      ]
     },
     "metadata": {
      "needs_background": "light"
     },
     "output_type": "display_data"
    },
    {
     "data": {
      "text/plain": [
       "<Figure size 432x288 with 0 Axes>"
      ]
     },
     "metadata": {},
     "output_type": "display_data"
    }
   ],
   "source": [
    "fig = plt.figure()\n",
    "fig.suptitle('Performance Comparison')\n",
    "ax = fig.add_subplot(111)\n",
    "plt.boxplot(results)\n",
    "ax.set_xticklabels(names)\n",
    "plt.show()\n",
    "plt.savefig('box_improved_SVM.png')"
   ]
  },
  {
   "cell_type": "markdown",
   "id": "increasing-crossing",
   "metadata": {
    "papermill": {
     "duration": 0.033998,
     "end_time": "2021-05-06T07:17:47.918683",
     "exception": false,
     "start_time": "2021-05-06T07:17:47.884685",
     "status": "completed"
    },
    "tags": []
   },
   "source": [
    "There is a noticeable improvement on SVM."
   ]
  },
  {
   "cell_type": "markdown",
   "id": "detected-alabama",
   "metadata": {
    "papermill": {
     "duration": 0.033755,
     "end_time": "2021-05-06T07:17:47.986840",
     "exception": false,
     "start_time": "2021-05-06T07:17:47.953085",
     "status": "completed"
    },
    "tags": []
   },
   "source": [
    "## SVM tuning"
   ]
  },
  {
   "cell_type": "code",
   "execution_count": 15,
   "id": "thermal-internet",
   "metadata": {
    "execution": {
     "iopub.execute_input": "2021-05-06T07:17:48.063486Z",
     "iopub.status.busy": "2021-05-06T07:17:48.062787Z",
     "iopub.status.idle": "2021-05-06T07:17:50.440678Z",
     "shell.execute_reply": "2021-05-06T07:17:50.441612Z"
    },
    "papermill": {
     "duration": 2.421155,
     "end_time": "2021-05-06T07:17:50.442009",
     "exception": false,
     "start_time": "2021-05-06T07:17:48.020854",
     "status": "completed"
    },
    "tags": []
   },
   "outputs": [
    {
     "name": "stdout",
     "output_type": "stream",
     "text": [
      "Best: 0.969130 using {'C': 1.5, 'kernel': 'rbf'}\n",
      "Best: 96.913043%\n"
     ]
    }
   ],
   "source": [
    "scaler = StandardScaler().fit(X_train)\n",
    "rescaledX = scaler.transform(X_train)\n",
    "c_values = [0.1, 0.3, 0.5, 0.7, 0.9, 1.0, 1.3, 1.5, 1.7, 2.0]\n",
    "kernel_values = ['linear', 'poly', 'rbf', 'sigmoid']\n",
    "param_grid = dict(C=c_values, kernel=kernel_values)\n",
    "model = SVC()\n",
    "kfold = KFold(n_splits=num_folds, random_state=21, shuffle=True)\n",
    "grid = GridSearchCV(estimator=model, param_grid=param_grid, scoring='accuracy', cv=kfold)\n",
    "grid_result = grid.fit(rescaledX, Y_train)\n",
    "print(\"Best: %f using %s\" % (grid_result.best_score_, grid_result.best_params_))\n",
    "print(\"Best: %f\" % (grid_result.best_score_ * 100) + \"%\")"
   ]
  },
  {
   "cell_type": "markdown",
   "id": "statutory-internship",
   "metadata": {
    "papermill": {
     "duration": 0.033396,
     "end_time": "2021-05-06T07:17:50.510991",
     "exception": false,
     "start_time": "2021-05-06T07:17:50.477595",
     "status": "completed"
    },
    "tags": []
   },
   "source": [
    "The best results are **96.913%** with an **RBF kernel** and **C = 1.5**, in **SVM configuration**. "
   ]
  },
  {
   "cell_type": "markdown",
   "id": "loved-chain",
   "metadata": {
    "papermill": {
     "duration": 0.034327,
     "end_time": "2021-05-06T07:17:50.579912",
     "exception": false,
     "start_time": "2021-05-06T07:17:50.545585",
     "status": "completed"
    },
    "tags": []
   },
   "source": []
  },
  {
   "cell_type": "code",
   "execution_count": 16,
   "id": "convertible-connecticut",
   "metadata": {
    "execution": {
     "iopub.execute_input": "2021-05-06T07:17:50.655247Z",
     "iopub.status.busy": "2021-05-06T07:17:50.654578Z",
     "iopub.status.idle": "2021-05-06T07:17:50.665484Z",
     "shell.execute_reply": "2021-05-06T07:17:50.664904Z"
    },
    "papermill": {
     "duration": 0.051634,
     "end_time": "2021-05-06T07:17:50.665654",
     "exception": false,
     "start_time": "2021-05-06T07:17:50.614020",
     "status": "completed"
    },
    "tags": []
   },
   "outputs": [],
   "source": [
    "with warnings.catch_warnings():\n",
    "    warnings.simplefilter(\"ignore\")\n",
    "    scaler = StandardScaler().fit(X_train)\n",
    "X_train_scaled = scaler.transform(X_train)\n",
    "model = SVC(C=2.0, kernel='rbf')\n",
    "model.fit(X_train_scaled, Y_train);"
   ]
  },
  {
   "cell_type": "markdown",
   "id": "adaptive-empty",
   "metadata": {
    "papermill": {
     "duration": 0.033678,
     "end_time": "2021-05-06T07:17:50.733361",
     "exception": false,
     "start_time": "2021-05-06T07:17:50.699683",
     "status": "completed"
    },
    "tags": []
   },
   "source": [
    "The **run time** for this model is **0.005745 seconds**."
   ]
  },
  {
   "cell_type": "code",
   "execution_count": 17,
   "id": "asian-library",
   "metadata": {
    "execution": {
     "iopub.execute_input": "2021-05-06T07:17:50.806832Z",
     "iopub.status.busy": "2021-05-06T07:17:50.806177Z",
     "iopub.status.idle": "2021-05-06T07:17:50.811282Z",
     "shell.execute_reply": "2021-05-06T07:17:50.810724Z"
    },
    "papermill": {
     "duration": 0.043754,
     "end_time": "2021-05-06T07:17:50.811447",
     "exception": false,
     "start_time": "2021-05-06T07:17:50.767693",
     "status": "completed"
    },
    "tags": []
   },
   "outputs": [],
   "source": [
    "X_test_scaled = scaler.transform(X_test)\n",
    "predictions = model.predict(X_test_scaled)"
   ]
  },
  {
   "cell_type": "code",
   "execution_count": 18,
   "id": "perfect-genome",
   "metadata": {
    "execution": {
     "iopub.execute_input": "2021-05-06T07:17:50.882703Z",
     "iopub.status.busy": "2021-05-06T07:17:50.882053Z",
     "iopub.status.idle": "2021-05-06T07:17:50.897731Z",
     "shell.execute_reply": "2021-05-06T07:17:50.898524Z"
    },
    "papermill": {
     "duration": 0.053087,
     "end_time": "2021-05-06T07:17:50.898753",
     "exception": false,
     "start_time": "2021-05-06T07:17:50.845666",
     "status": "completed"
    },
    "tags": []
   },
   "outputs": [
    {
     "name": "stdout",
     "output_type": "stream",
     "text": [
      "Accuracy score: 99.122807%\n",
      "              precision    recall  f1-score   support\n",
      "\n",
      "           0       1.00      0.99      0.99        75\n",
      "           1       0.97      1.00      0.99        39\n",
      "\n",
      "    accuracy                           0.99       114\n",
      "   macro avg       0.99      0.99      0.99       114\n",
      "weighted avg       0.99      0.99      0.99       114\n",
      "\n"
     ]
    }
   ],
   "source": [
    "#print(\"Accuracy score %f\" % accuracy_score(Y_test, predictions))\n",
    "accuracy_percent=accuracy_score(Y_test, predictions) * 100\n",
    "print(\"Accuracy score: %f\" % accuracy_percent + \"%\")\n",
    "print(classification_report(Y_test, predictions))"
   ]
  },
  {
   "cell_type": "markdown",
   "id": "criminal-dayton",
   "metadata": {
    "papermill": {
     "duration": 0.034417,
     "end_time": "2021-05-06T07:17:50.968747",
     "exception": false,
     "start_time": "2021-05-06T07:17:50.934330",
     "status": "completed"
    },
    "tags": []
   },
   "source": [
    "The accuracy score of the model is equal to **0.991228**. In short the accuracy reaches 99% with some improvements."
   ]
  },
  {
   "cell_type": "code",
   "execution_count": 19,
   "id": "emotional-optimum",
   "metadata": {
    "execution": {
     "iopub.execute_input": "2021-05-06T07:17:51.045779Z",
     "iopub.status.busy": "2021-05-06T07:17:51.045073Z",
     "iopub.status.idle": "2021-05-06T07:17:51.048521Z",
     "shell.execute_reply": "2021-05-06T07:17:51.047739Z"
    },
    "papermill": {
     "duration": 0.04555,
     "end_time": "2021-05-06T07:17:51.048671",
     "exception": false,
     "start_time": "2021-05-06T07:17:51.003121",
     "status": "completed"
    },
    "tags": []
   },
   "outputs": [],
   "source": [
    "cf_matrix = confusion_matrix(Y_test, predictions)"
   ]
  },
  {
   "cell_type": "code",
   "execution_count": 20,
   "id": "welcome-suggestion",
   "metadata": {
    "execution": {
     "iopub.execute_input": "2021-05-06T07:17:51.141950Z",
     "iopub.status.busy": "2021-05-06T07:17:51.141170Z",
     "iopub.status.idle": "2021-05-06T07:17:51.351895Z",
     "shell.execute_reply": "2021-05-06T07:17:51.351287Z"
    },
    "papermill": {
     "duration": 0.267982,
     "end_time": "2021-05-06T07:17:51.352049",
     "exception": false,
     "start_time": "2021-05-06T07:17:51.084067",
     "status": "completed"
    },
    "tags": []
   },
   "outputs": [
    {
     "name": "stdout",
     "output_type": "stream",
     "text": [
      "[[74  1]\n",
      " [ 0 39]]\n"
     ]
    },
    {
     "data": {
      "image/png": "[encoded data removed]",
      "text/plain": [
       "<Figure size 432x288 with 2 Axes>"
      ]
     },
     "metadata": {
      "needs_background": "light"
     },
     "output_type": "display_data"
    }
   ],
   "source": [
    "print(cf_matrix)\n",
    "sns.heatmap(cf_matrix, annot=True);"
   ]
  },
  {
   "cell_type": "code",
   "execution_count": 21,
   "id": "respiratory-photograph",
   "metadata": {
    "execution": {
     "iopub.execute_input": "2021-05-06T07:17:51.438734Z",
     "iopub.status.busy": "2021-05-06T07:17:51.438020Z",
     "iopub.status.idle": "2021-05-06T07:17:51.620695Z",
     "shell.execute_reply": "2021-05-06T07:17:51.621247Z"
    },
    "papermill": {
     "duration": 0.232952,
     "end_time": "2021-05-06T07:17:51.621466",
     "exception": false,
     "start_time": "2021-05-06T07:17:51.388514",
     "status": "completed"
    },
    "tags": []
   },
   "outputs": [
    {
     "data": {
      "image/png": "[encoded data removed]",
      "text/plain": [
       "<Figure size 432x288 with 2 Axes>"
      ]
     },
     "metadata": {
      "needs_background": "light"
     },
     "output_type": "display_data"
    }
   ],
   "source": [
    "group_names = ['True Neg','False Pos','False Neg','True Pos']\n",
    "group_counts = ['{0:0.0f}'.format(value) for value in cf_matrix.flatten()]\n",
    "group_percentages = ['{0:.2%}'.format(value) for value in\n",
    "                     cf_matrix.flatten()/np.sum(cf_matrix)]\n",
    "#labels = [f\"{v1}\\n{v2}\" for v1, v2 in\n",
    "#          zip(group_names,group_percentages)]\n",
    "labels = [f\"{v1}\\n{v2}\\n{v3}\" for v1, v2, v3 in\n",
    "          zip(group_names,group_counts,group_percentages)]\n",
    "labels = np.asarray(labels).reshape(2,2)\n",
    "sns.heatmap(cf_matrix, annot=labels, fmt='');"
   ]
  },
  {
   "cell_type": "markdown",
   "id": "portuguese-teaching",
   "metadata": {
    "papermill": {
     "duration": 0.036657,
     "end_time": "2021-05-06T07:17:51.695249",
     "exception": false,
     "start_time": "2021-05-06T07:17:51.658592",
     "status": "completed"
    },
    "tags": []
   },
   "source": [
    "The model has a **99% accuracy** on the test data. Creating the heatmap helped show that there is just **one misclassification**."
   ]
  },
  {
   "cell_type": "markdown",
   "id": "dominican-constitution",
   "metadata": {
    "papermill": {
     "duration": 0.036541,
     "end_time": "2021-05-06T07:17:51.768471",
     "exception": false,
     "start_time": "2021-05-06T07:17:51.731930",
     "status": "completed"
    },
    "tags": []
   },
   "source": [
    "## What else can be done to improve the process/model/pipeline?"
   ]
  },
  {
   "cell_type": "markdown",
   "id": "occupational-crazy",
   "metadata": {
    "papermill": {
     "duration": 0.037504,
     "end_time": "2021-05-06T07:17:51.842834",
     "exception": false,
     "start_time": "2021-05-06T07:17:51.805330",
     "status": "completed"
    },
    "tags": []
   },
   "source": [
    "- Test the data on Artificial Neural Network(s)\n",
    "- Test the data on KNN with GaussianNB\n",
    "- Use different split size\n",
    "- Use different scaling method\n",
    "- Use some kind of Ensemble method"
   ]
  }
 ],
 "metadata": {
  "kernelspec": {
   "display_name": "Python 3",
   "language": "python",
   "name": "python3"
  },
  "language_info": {
   "codemirror_mode": {
    "name": "ipython",
    "version": 3
   },
   "file_extension": ".py",
   "mimetype": "text/x-python",
   "name": "python",
   "nbconvert_exporter": "python",
   "pygments_lexer": "ipython3",
   "version": "3.7.10"
  },
  "papermill": {
   "default_parameters": {},
   "duration": 21.976872,
   "end_time": "2021-05-06T07:17:53.317492",
   "environment_variables": {},
   "exception": null,
   "input_path": "__notebook__.ipynb",
   "output_path": "__notebook__.ipynb",
   "parameters": {},
   "start_time": "2021-05-06T07:17:31.340620",
   "version": "2.3.3"
  }
 },
 "nbformat": 4,
 "nbformat_minor": 5
}
